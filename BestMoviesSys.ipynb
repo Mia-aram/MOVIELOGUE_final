{
 "cells": [
  {
   "cell_type": "code",
   "execution_count": 1,
   "id": "260143e9",
   "metadata": {},
   "outputs": [],
   "source": [
    "# [credits.csv]\n",
    "# movie_id : 영화의 고유 ID입니다. 이 ID는 영화를 공유하는 데 사용됩니다.\n",
    "# title : 영화의 제목입니다.\n",
    "# cast : 영화에 출연한 배우들의 정보가 JSON 형식으로 저장되어 있습니다. 각 배우의 정보에는 배터리 이름, 배우의 이름, 연결 등이 포함되어 있습니다.\n",
    "# crew : 영화 제작에 나눔의 정보가 JSON 형식으로 저장되어 있습니다. 수확의 정보에는 직책(예: 감독, 작곡가 등), 수확의 이름 등이 포함되어 있습니다.\n",
    "\n",
    "# [movies.csv]\n",
    "# budget: 영화의 예산.\n",
    "# genres: 영화와 관련된 장르 목록입니다.\n",
    "# homepage: 영화의 홈페이지 URL입니다.\n",
    "# id: 영화의 ID입니다.\n",
    "# keywords: 영화와 관련된 키워드 목록입니다.\n",
    "# original_language: 영화의 원래 언어입니다.\n",
    "# original_title: 영화의 원래 제목입니다.\n",
    "# overview: 영화에 대한 간략한 요약.\n",
    "# popularity: 영화의 인기 점수.\n",
    "# production_companies: 영화에 관련된 제작사 목록입니다.\n",
    "# production_countries: 영화가 제작된 국가 목록입니다.\n",
    "# release_date: 영화 개봉일입니다.\n",
    "# revenue: 영화로 발생한 수익입니다.\n",
    "# runtime: 영화의 실행 시간(분)입니다.\n",
    "# spoken_languages: 영화에서 사용되는 언어 목록입니다.\n",
    "# status: 영화의 현재 상태.\n",
    "# tagline: 영화의 태그라인.\n",
    "# title: 영화의 제목입니다.\n",
    "# vote_average: 영화의 평균 득표율입니다.\n",
    "# vote_count: 영화에 대한 투표 수입니다.\n"
   ]
  },
  {
   "cell_type": "code",
   "execution_count": 2,
   "id": "e6fa2993",
   "metadata": {},
   "outputs": [],
   "source": [
    "import pandas as pd\n",
    "import numpy as np\n",
    "import pickle\n",
    "from ast import literal_eval\n",
    "from sklearn.feature_extraction.text import TfidfVectorizer, CountVectorizer # Tf - id 단어들의 퓨처 벡터화\n",
    "from sklearn.metrics.pairwise import cosine_similarity"
   ]
  },
  {
   "cell_type": "code",
   "execution_count": 3,
   "id": "d493e05f",
   "metadata": {},
   "outputs": [],
   "source": [
    "df_credits = pd.read_csv('tmdb_5000_credits.csv') #영화 배우,감독?\n",
    "df_movies = pd.read_csv('tmdb_5000_movies.csv') #영화 정보\n",
    "\n",
    "C = df_movies['vote_average'].mean() #영화 평점의 평균값\n",
    "m = df_movies['vote_count'].quantile(0.9) # 투표수가 적은 영화 10%\n",
    "\n",
    "# 아이템의 인기도와 품질을 모두 고려한 가중평점을 구할수있어서 보다 균형잡힌 방식으로 아이템의 순위를 맥이고 우선순위를 정할수있다. \n",
    "def weighted_rating(x, m=m, C=C):\n",
    "    v = x['vote_count'] #투표 횟수\n",
    "    R = x['vote_average'] #평점의 평균값\n",
    "    return (v / (v + m) * R) + (m / (m + v) * C)\n",
    "\n",
    "def get_director(x):\n",
    "    for i in x:\n",
    "        if i['job'] == 'Director':\n",
    "            return i['name']\n",
    "    return np.nan\n",
    "\n",
    "def get_list(x):\n",
    "    if isinstance(x, list): # 타입변경 유효성검사\n",
    "        names = [i['name'] for i in x]\n",
    "        if len(names) > 3:\n",
    "            names = names[:3]\n",
    "        return names\n",
    "    return []\n",
    "\n",
    "def clean_data(x):\n",
    "    if isinstance(x, list):\n",
    "        return [str.lower(i.replace(' ', '')) for i in x]\n",
    "    else:\n",
    "        if isinstance(x, str):\n",
    "            return str.lower(x.replace(' ', ''))\n",
    "        else:\n",
    "            return ''\n",
    "        \n",
    "def overview_list(x): \n",
    "    return x.split()\n",
    "\n",
    "def create_soup(x):\n",
    "    return ' '.join(x['keywords']) + ' ' + ' '.join(x['cast']) + ' ' + x['director'] + ' ' + ' '.join(x['genres']) \n",
    "\n",
    "def total_soup(x):\n",
    "    return ' '.join(x['overview']) + ' ' +' '.join(x['keywords']) + ' ' + ' '.join(x['cast']) + ' ' + x['director'] + ' ' + ' '.join(x['genres']) "
   ]
  },
  {
   "cell_type": "code",
   "execution_count": 4,
   "id": "5cce8c1a",
   "metadata": {},
   "outputs": [],
   "source": [
    "df_credits['title'].equals(df_movies['title'])\n",
    "df_credits.columns = ['id', 'title', 'cast', 'crew']\n",
    "df_movies = df_movies.merge(df_credits[['id', 'cast', 'crew']],on='id')\n",
    "\n",
    "df_movies['overview'] = df_movies['overview'].fillna('') # 결측치 채우기\n",
    "\n",
    "tfidf = TfidfVectorizer(stop_words='english') # 객체생성\n",
    "tfidf_movies_matrix = tfidf.fit_transform(df_movies['overview']) # 벡터화 이후 학습\n",
    "overView = cosine_similarity(tfidf_movies_matrix, tfidf_movies_matrix) # 줄거리 유사성계산\n",
    "\n",
    "df_movies['overview'] = df_movies[\"overview\"].str.replace(pat=r'[^\\w]', repl=r' ', regex=True)\n",
    "df_movies['overview'] = df_movies['overview'].apply(overview_list)"
   ]
  },
  {
   "cell_type": "code",
   "execution_count": 5,
   "id": "648ae492",
   "metadata": {},
   "outputs": [],
   "source": [
    "\n",
    "features = ['cast', 'crew', 'keywords', 'genres'] # 출연배우, 스텝, 영화 hash tag, 장르\n",
    "for feature in features:\n",
    "    df_movies[feature] = df_movies[feature].apply(literal_eval)\n",
    "\n",
    "df_movies['director'] = df_movies['crew'].apply(get_director)\n",
    "\n",
    "features = ['cast', 'keywords', 'genres']\n",
    "for feature in features:\n",
    "    df_movies[feature] = df_movies[feature].apply(get_list)\n",
    "\n",
    "features = ['cast', 'keywords', 'director', 'genres', 'overview']\n",
    "for feature in features:\n",
    "    df_movies[feature] = df_movies[feature].apply(clean_data)\n",
    "\n",
    "df_movies['soup'] = df_movies.apply(create_soup, axis=1)\n",
    "df_movies = df_movies.reset_index()\n",
    "find_list = df_movies[['id', 'title']].copy()\n",
    "\n",
    "count = CountVectorizer(stop_words='english')\n",
    "count_matrix = count.fit_transform(df_movies['soup'])\n",
    "credits = cosine_similarity(count_matrix, count_matrix)\n",
    "\n",
    "df_movies['total'] = df_movies.apply(total_soup, axis=1)\n",
    "total_matrix = tfidf.fit_transform(df_movies['total'])\n",
    "total = cosine_similarity(total_matrix, total_matrix)"
   ]
  },
  {
   "cell_type": "code",
   "execution_count": 6,
   "id": "4cd0a678",
   "metadata": {},
   "outputs": [],
   "source": [
    "pickle.dump(find_list, open('find_list.pickle', 'wb'))\n",
    "pickle.dump(overView, open('overView.pickle', 'wb'))\n",
    "pickle.dump(credits, open('credits.pickle', 'wb'))\n",
    "pickle.dump(total, open('total.pickle', 'wb'))"
   ]
  },
  {
   "cell_type": "code",
   "execution_count": 7,
   "id": "fa38937f",
   "metadata": {},
   "outputs": [],
   "source": [
    "df_movies_copy = df_movies.copy().loc[df_movies['vote_count'] >= m]\n",
    "df_movies_copy['score'] = df_movies_copy.apply(weighted_rating, axis=1)\n",
    "df_movies_copy = df_movies_copy.sort_values('score', ascending=False) # 가중치 내림차순"
   ]
  },
  {
   "cell_type": "code",
   "execution_count": null,
   "id": "f74369b0",
   "metadata": {},
   "outputs": [],
   "source": []
  },
  {
   "cell_type": "code",
   "execution_count": null,
   "id": "95f00367",
   "metadata": {},
   "outputs": [],
   "source": []
  },
  {
   "cell_type": "code",
   "execution_count": null,
   "id": "fbbe545f",
   "metadata": {},
   "outputs": [],
   "source": []
  }
 ],
 "metadata": {
  "kernelspec": {
   "display_name": "Python 3 (ipykernel)",
   "language": "python",
   "name": "python3"
  },
  "language_info": {
   "codemirror_mode": {
    "name": "ipython",
    "version": 3
   },
   "file_extension": ".py",
   "mimetype": "text/x-python",
   "name": "python",
   "nbconvert_exporter": "python",
   "pygments_lexer": "ipython3",
   "version": "3.10.9"
  }
 },
 "nbformat": 4,
 "nbformat_minor": 5
}

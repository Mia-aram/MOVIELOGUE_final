{
 "cells": [
  {
   "cell_type": "code",
   "execution_count": 20,
   "id": "58157ed8",
   "metadata": {},
   "outputs": [],
   "source": [
    "\n",
    "import pandas as pd\n",
    "from sklearn.feature_extraction.text import TfidfVectorizer\n",
    "from sklearn.metrics.pairwise import linear_kernel\n",
    "from sklearn.model_selection import train_test_split\n",
    "import numpy as np"
   ]
  },
  {
   "cell_type": "code",
   "execution_count": 21,
   "id": "f7aa3f6f",
   "metadata": {},
   "outputs": [],
   "source": [
    "\n",
    "movies_df = pd.read_csv('tmdb_5000_movies.csv')\n",
    "credits_df = pd.read_csv('tmdb_5000_credits.csv')\n",
    "movies_with_credits = movies_df.merge(credits_df, left_on='id', right_on='movie_id')\n",
    "movies_data = movies_with_credits[['title_x', 'vote_average', 'vote_count', 'overview']]\n",
    "train_data, test_data = train_test_split(movies_data, test_size=0.2, random_state=42)\n"
   ]
  },
  {
   "cell_type": "code",
   "execution_count": 22,
   "id": "aae9ea6a",
   "metadata": {},
   "outputs": [],
   "source": [
    "\n",
    "train_data['overview'] = train_data['overview'].fillna('')\n"
   ]
  },
  {
   "cell_type": "code",
   "execution_count": 23,
   "id": "20bfc112",
   "metadata": {},
   "outputs": [],
   "source": [
    "\n",
    "tfidf_vectorizer = TfidfVectorizer(stop_words='english')\n",
    "tfidf_matrix = tfidf_vectorizer.fit_transform(train_data['overview'])\n"
   ]
  },
  {
   "cell_type": "code",
   "execution_count": 24,
   "id": "c9146a94",
   "metadata": {},
   "outputs": [],
   "source": [
    "\n",
    "cosine_sim = linear_kernel(tfidf_matrix, tfidf_matrix)\n"
   ]
  },
  {
   "cell_type": "code",
   "execution_count": 25,
   "id": "4b0a75f9",
   "metadata": {},
   "outputs": [],
   "source": [
    "\n",
    "def get_recommendations(title):\n",
    "    idx = train_data.index[train_data['title'] == title][0]\n",
    "    sim_scores = list(enumerate(cosine_sim[idx]))\n",
    "    sim_scores = sorted(sim_scores, key=lambda x: x[1], reverse=True)\n",
    "    sim_scores = sim_scores[1:9]\n",
    "    movie_indices = [i[0] for i in sim_scores]\n",
    "    return train_data['title'].iloc[movie_indices]\n"
   ]
  },
  {
   "cell_type": "code",
   "execution_count": 26,
   "id": "23d1bf06",
   "metadata": {},
   "outputs": [],
   "source": [
    "\n",
    "full_data = pd.concat([train_data, test_data]).reset_index(drop=True)\n",
    "full_data['overview'] = full_data['overview'].fillna('')\n",
    "tfidf_matrix_full = tfidf_vectorizer.fit_transform(full_data['overview'])\n",
    "cosine_sim_full = linear_kernel(tfidf_matrix_full, tfidf_matrix_full)\n"
   ]
  },
  {
   "cell_type": "code",
   "execution_count": 19,
   "id": "fb13378e",
   "metadata": {},
   "outputs": [
    {
     "ename": "KeyError",
     "evalue": "'vote_count'",
     "output_type": "error",
     "traceback": [
      "\u001b[1;31m---------------------------------------------------------------------------\u001b[0m",
      "\u001b[1;31mKeyError\u001b[0m                                  Traceback (most recent call last)",
      "File \u001b[1;32mc:\\Users\\gjaischool\\anaconda3\\envs\\movie_env\\lib\\site-packages\\pandas\\core\\indexes\\base.py:3653\u001b[0m, in \u001b[0;36mIndex.get_loc\u001b[1;34m(self, key)\u001b[0m\n\u001b[0;32m   3652\u001b[0m \u001b[39mtry\u001b[39;00m:\n\u001b[1;32m-> 3653\u001b[0m     \u001b[39mreturn\u001b[39;00m \u001b[39mself\u001b[39;49m\u001b[39m.\u001b[39;49m_engine\u001b[39m.\u001b[39;49mget_loc(casted_key)\n\u001b[0;32m   3654\u001b[0m \u001b[39mexcept\u001b[39;00m \u001b[39mKeyError\u001b[39;00m \u001b[39mas\u001b[39;00m err:\n",
      "File \u001b[1;32mc:\\Users\\gjaischool\\anaconda3\\envs\\movie_env\\lib\\site-packages\\pandas\\_libs\\index.pyx:147\u001b[0m, in \u001b[0;36mpandas._libs.index.IndexEngine.get_loc\u001b[1;34m()\u001b[0m\n",
      "File \u001b[1;32mc:\\Users\\gjaischool\\anaconda3\\envs\\movie_env\\lib\\site-packages\\pandas\\_libs\\index.pyx:176\u001b[0m, in \u001b[0;36mpandas._libs.index.IndexEngine.get_loc\u001b[1;34m()\u001b[0m\n",
      "File \u001b[1;32mpandas\\_libs\\hashtable_class_helper.pxi:7080\u001b[0m, in \u001b[0;36mpandas._libs.hashtable.PyObjectHashTable.get_item\u001b[1;34m()\u001b[0m\n",
      "File \u001b[1;32mpandas\\_libs\\hashtable_class_helper.pxi:7088\u001b[0m, in \u001b[0;36mpandas._libs.hashtable.PyObjectHashTable.get_item\u001b[1;34m()\u001b[0m\n",
      "\u001b[1;31mKeyError\u001b[0m: 'vote_count'",
      "\nThe above exception was the direct cause of the following exception:\n",
      "\u001b[1;31mKeyError\u001b[0m                                  Traceback (most recent call last)",
      "Cell \u001b[1;32mIn[19], line 1\u001b[0m\n\u001b[1;32m----> 1\u001b[0m threshold \u001b[39m=\u001b[39m full_data[\u001b[39m'\u001b[39;49m\u001b[39mvote_count\u001b[39;49m\u001b[39m'\u001b[39;49m]\u001b[39m.\u001b[39mmedian()\n\u001b[0;32m      2\u001b[0m recall_values \u001b[39m=\u001b[39m []\n\u001b[0;32m      3\u001b[0m \u001b[39mfor\u001b[39;00m idx, row \u001b[39min\u001b[39;00m test_data\u001b[39m.\u001b[39miterrows():\n",
      "File \u001b[1;32mc:\\Users\\gjaischool\\anaconda3\\envs\\movie_env\\lib\\site-packages\\pandas\\core\\frame.py:3761\u001b[0m, in \u001b[0;36mDataFrame.__getitem__\u001b[1;34m(self, key)\u001b[0m\n\u001b[0;32m   3759\u001b[0m \u001b[39mif\u001b[39;00m \u001b[39mself\u001b[39m\u001b[39m.\u001b[39mcolumns\u001b[39m.\u001b[39mnlevels \u001b[39m>\u001b[39m \u001b[39m1\u001b[39m:\n\u001b[0;32m   3760\u001b[0m     \u001b[39mreturn\u001b[39;00m \u001b[39mself\u001b[39m\u001b[39m.\u001b[39m_getitem_multilevel(key)\n\u001b[1;32m-> 3761\u001b[0m indexer \u001b[39m=\u001b[39m \u001b[39mself\u001b[39;49m\u001b[39m.\u001b[39;49mcolumns\u001b[39m.\u001b[39;49mget_loc(key)\n\u001b[0;32m   3762\u001b[0m \u001b[39mif\u001b[39;00m is_integer(indexer):\n\u001b[0;32m   3763\u001b[0m     indexer \u001b[39m=\u001b[39m [indexer]\n",
      "File \u001b[1;32mc:\\Users\\gjaischool\\anaconda3\\envs\\movie_env\\lib\\site-packages\\pandas\\core\\indexes\\base.py:3655\u001b[0m, in \u001b[0;36mIndex.get_loc\u001b[1;34m(self, key)\u001b[0m\n\u001b[0;32m   3653\u001b[0m     \u001b[39mreturn\u001b[39;00m \u001b[39mself\u001b[39m\u001b[39m.\u001b[39m_engine\u001b[39m.\u001b[39mget_loc(casted_key)\n\u001b[0;32m   3654\u001b[0m \u001b[39mexcept\u001b[39;00m \u001b[39mKeyError\u001b[39;00m \u001b[39mas\u001b[39;00m err:\n\u001b[1;32m-> 3655\u001b[0m     \u001b[39mraise\u001b[39;00m \u001b[39mKeyError\u001b[39;00m(key) \u001b[39mfrom\u001b[39;00m \u001b[39merr\u001b[39;00m\n\u001b[0;32m   3656\u001b[0m \u001b[39mexcept\u001b[39;00m \u001b[39mTypeError\u001b[39;00m:\n\u001b[0;32m   3657\u001b[0m     \u001b[39m# If we have a listlike key, _check_indexing_error will raise\u001b[39;00m\n\u001b[0;32m   3658\u001b[0m     \u001b[39m#  InvalidIndexError. Otherwise we fall through and re-raise\u001b[39;00m\n\u001b[0;32m   3659\u001b[0m     \u001b[39m#  the TypeError.\u001b[39;00m\n\u001b[0;32m   3660\u001b[0m     \u001b[39mself\u001b[39m\u001b[39m.\u001b[39m_check_indexing_error(key)\n",
      "\u001b[1;31mKeyError\u001b[0m: 'vote_count'"
     ]
    }
   ],
   "source": [
    "\n",
    "threshold = full_data['vote_count'].median()\n",
    "recall_values = []\n",
    "for idx, row in test_data.iterrows():\n",
    "    recommendations = get_recommendations_full(row['title'])\n",
    "    relevant_movies = full_data[full_data['vote_count'] > threshold]['title'].tolist()\n",
    "    recall_values.append(recall_at_k(recommendations, relevant_movies))\n",
    "average_recall_at_k = np.mean(recall_values)\n"
   ]
  },
  {
   "cell_type": "code",
   "execution_count": null,
   "id": "170b021d",
   "metadata": {},
   "outputs": [],
   "source": [
    "\n",
    "ndcg_values = []\n",
    "for idx, row in test_data.iterrows():\n",
    "    recommendations = get_recommendations_full(row['title']).tolist()\n",
    "    relevant_movies_with_votes = {movie: vote for movie, vote in relevant_movies_with_votes.items() if movie in recommendations}\n",
    "    if relevant_movies_with_votes:\n",
    "        ndcg_values.append(calculate_ndcg(recommendations, relevant_movies_with_votes))\n",
    "    else:\n",
    "        ndcg_values.append(0)\n",
    "average_ndcg = np.mean(ndcg_values)\n"
   ]
  }
 ],
 "metadata": {
  "kernelspec": {
   "display_name": "ve",
   "language": "python",
   "name": "python3"
  },
  "language_info": {
   "codemirror_mode": {
    "name": "ipython",
    "version": 3
   },
   "file_extension": ".py",
   "mimetype": "text/x-python",
   "name": "python",
   "nbconvert_exporter": "python",
   "pygments_lexer": "ipython3",
   "version": "3.10.9"
  }
 },
 "nbformat": 4,
 "nbformat_minor": 5
}
